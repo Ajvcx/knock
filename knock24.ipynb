{
  "nbformat": 4,
  "nbformat_minor": 0,
  "metadata": {
    "colab": {
      "name": "knock24.ipynb",
      "provenance": [],
      "collapsed_sections": [],
      "authorship_tag": "ABX9TyNrJH2ldHIGyKcxIiroPnL3",
      "include_colab_link": true
    },
    "kernelspec": {
      "name": "python3",
      "display_name": "Python 3"
    }
  },
  "cells": [
    {
      "cell_type": "markdown",
      "metadata": {
        "id": "view-in-github",
        "colab_type": "text"
      },
      "source": [
        "<a href=\"https://colab.research.google.com/github/Ajvcx/knock/blob/master/knock24.ipynb\" target=\"_parent\"><img src=\"https://colab.research.google.com/assets/colab-badge.svg\" alt=\"Open In Colab\"/></a>"
      ]
    },
    {
      "cell_type": "code",
      "metadata": {
        "id": "PW2iImKqAc6M",
        "colab_type": "code",
        "colab": {
          "base_uri": "https://localhost:8080/",
          "height": 204
        },
        "outputId": "8b7abb02-80e7-4ae5-efd2-e903f79ecc9b"
      },
      "source": [
        "!wget http://www.cl.ecei.tohoku.ac.jp/nlp100/data/jawiki-country.json.gz"
      ],
      "execution_count": 1,
      "outputs": [
        {
          "output_type": "stream",
          "text": [
            "--2020-04-20 14:33:24--  http://www.cl.ecei.tohoku.ac.jp/nlp100/data/jawiki-country.json.gz\n",
            "Resolving www.cl.ecei.tohoku.ac.jp (www.cl.ecei.tohoku.ac.jp)... 130.34.192.83\n",
            "Connecting to www.cl.ecei.tohoku.ac.jp (www.cl.ecei.tohoku.ac.jp)|130.34.192.83|:80... connected.\n",
            "HTTP request sent, awaiting response... 200 OK\n",
            "Length: 3605822 (3.4M) [application/x-gzip]\n",
            "Saving to: ‘jawiki-country.json.gz’\n",
            "\n",
            "jawiki-country.json 100%[===================>]   3.44M  2.51MB/s    in 1.4s    \n",
            "\n",
            "2020-04-20 14:33:26 (2.51 MB/s) - ‘jawiki-country.json.gz’ saved [3605822/3605822]\n",
            "\n"
          ],
          "name": "stdout"
        }
      ]
    },
    {
      "cell_type": "code",
      "metadata": {
        "id": "2pEEtR63wPke",
        "colab_type": "code",
        "outputId": "f4007b85-275e-40e2-a4a4-b5e6ce65c114",
        "colab": {
          "base_uri": "https://localhost:8080/",
          "height": 170
        }
      },
      "source": [
        "import gzip\n",
        "import json\n",
        "import re\n",
        "flame = 'jawiki-country.json.gz'\n",
        "g = []\n",
        "\n",
        "def UK():\n",
        "  with gzip.open(flame, 'rt') as data_file:\n",
        "    for line in data_file:\n",
        "      data_json = json.loads(line)\n",
        "      if data_json['title'] == 'イギリス':\n",
        "       return data_json['text']\n",
        "\n",
        "#pattern = re.compile('.*?.svg')\n",
        "#pattern = re.compile(r'(?:File|ファイル):(.+?)[?:|]')\n",
        "pattern = re.compile(r'(.*)(?=svg)')\n",
        "\n",
        "a = pattern.findall(UK())\n",
        "for b in a:\n",
        "  print(b)\n",
        "  c = re.compile('(?::|=)(.+?)')\n",
        "  d = c.findall(b)\n",
        "  g.append(d)\n",
        "\n",
        "print(g)\n"
      ],
      "execution_count": 240,
      "outputs": [
        {
          "output_type": "stream",
          "text": [
            "|国旗画像 = Flag of the United Kingdom.\n",
            "\n",
            "|国章画像 = [[ファイル:Royal Coat of Arms of the United Kingdom.\n",
            "\n",
            "|位置画像 = Location_UK_EU_Europe_001.\n",
            "\n",
            "[[File:Anglospeak.\n",
            "\n",
            "[['.'], [], ['.'], [], ['.'], [], ['.'], []]\n"
          ],
          "name": "stdout"
        }
      ]
    }
  ]
}