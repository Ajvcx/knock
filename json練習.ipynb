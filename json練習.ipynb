{
  "nbformat": 4,
  "nbformat_minor": 0,
  "metadata": {
    "colab": {
      "name": "練習.ipynb",
      "provenance": [],
      "collapsed_sections": [],
      "mount_file_id": "1SxGIKy40eRBUIOss4uhjPQ7P2xkyUrDP",
      "authorship_tag": "ABX9TyPdCFB2zx1DG6QRUAdDhjb7",
      "include_colab_link": true
    },
    "kernelspec": {
      "name": "python3",
      "display_name": "Python 3"
    }
  },
  "cells": [
    {
      "cell_type": "markdown",
      "metadata": {
        "id": "view-in-github",
        "colab_type": "text"
      },
      "source": [
        "<a href=\"https://colab.research.google.com/github/Ajvcx/knock/blob/master/json%E7%B7%B4%E7%BF%92.ipynb\" target=\"_parent\"><img src=\"https://colab.research.google.com/assets/colab-badge.svg\" alt=\"Open In Colab\"/></a>"
      ]
    },
    {
      "cell_type": "code",
      "metadata": {
        "id": "hUqBgcr677qf",
        "colab_type": "code",
        "colab": {}
      },
      "source": [
        "!sudo apt install mecab"
      ],
      "execution_count": 0,
      "outputs": []
    },
    {
      "cell_type": "code",
      "metadata": {
        "id": "zFBT7o2M8irb",
        "colab_type": "code",
        "colab": {}
      },
      "source": [
        "!sudo apt install mecab-naist-jdic"
      ],
      "execution_count": 0,
      "outputs": []
    },
    {
      "cell_type": "code",
      "metadata": {
        "id": "fVfqtk9q8uAq",
        "colab_type": "code",
        "colab": {}
      },
      "source": [
        "!sudo apt install libmecab-dev"
      ],
      "execution_count": 0,
      "outputs": []
    },
    {
      "cell_type": "code",
      "metadata": {
        "id": "rAcssdnV8y7f",
        "colab_type": "code",
        "colab": {}
      },
      "source": [
        "!pip install mecab-python3"
      ],
      "execution_count": 0,
      "outputs": []
    },
    {
      "cell_type": "code",
      "metadata": {
        "id": "xlR-ioe6GDcg",
        "colab_type": "code",
        "colab": {}
      },
      "source": [
        "import json\n",
        "import MeCab\n",
        "import sys\n",
        "fname = '/content/drive/My Drive/Colab Notebooks/data_file/Pref13_tokyo.json'\n",
        "\n",
        "with open(fname, 'r') as data_file:\n",
        " data_json = json.load(data_file)\n",
        "\n",
        "SPlist = []\n",
        "UTlist = []\n",
        "BB = {}\n",
        "\n",
        "for i,jsn_key in enumerate(data_json):\n",
        "  if i == 0:\n",
        "    pass\n",
        "  else:\n",
        "    SP = jsn_key[\"Speaker\"]\n",
        "    UT = jsn_key[\"Utterance\"]\n",
        "    #print(SP, UT)\n",
        "    #print(f\"{SP} => {UT}\")\n",
        "    SPlist.append(SP)\n",
        "    UTlist.append(UT)\n",
        "\n",
        "    if i == 10:\n",
        "      break\n",
        "\n",
        "b = MeCab.Tagger(\"-Owakati\")\n",
        "\n",
        "UTlist2 = []\n",
        "for line in UTlist:\n",
        "  a = b.parse(line)\n",
        "  UTlist2.append(a)\n",
        "del UTlist\n",
        "\n",
        "for key, value in zip(SPlist, UTlist2):\n",
        "  BB[key] = value\n",
        "\n",
        "  with open('/content/drive/My Drive/Colab Notebooks/data_file/mitudesu.json', 'a') as f:\n",
        "    json.dump(BB, f, indent=2, ensure_ascii=False)"
      ],
      "execution_count": 0,
      "outputs": []
    },
    {
      "cell_type": "code",
      "metadata": {
        "id": "45abjX2K0mmq",
        "colab_type": "code",
        "outputId": "b2cc71bc-9721-4231-81d6-c2d78e1012a2",
        "colab": {
          "base_uri": "https://localhost:8080/",
          "height": 562
        }
      },
      "source": [
        "with open('/content/drive/My Drive/Colab Notebooks/data_file/mitudesu.json') as f:\n",
        "  print(f.read())"
      ],
      "execution_count": 0,
      "outputs": [
        {
          "output_type": "stream",
          "text": [
            "{\n",
            "  \"和田宗春\": \"この 際 、 開 議 に 先立ち まし て 、 この たび の 東日本 大震災 により 亡くなら れ た 方々 の ご 冥福 を 祈る ため 、 黙祷 を ささげ たい と 存じ ます 。 \\n\",\n",
            "  \"白石弥生子\": \"━━━━━━━━━━ \\n\"\n",
            "}{\n",
            "  \"和田宗春\": \"ただ いま から 平成 二 十 三 年 第 二 回 東京 都議会 定例 会 を 開会 いたし ます 。 \\n\"\n",
            "}{\n",
            "  \"和田宗春\": \"━━━━━━━━━━ \\n\"\n",
            "}{\n",
            "  \"和田宗春\": \"この 際 、 開 議 に 先立ち まし て 、 この たび の 東日本 大震災 により 亡くなら れ た 方々 の ご 冥福 を 祈る ため 、 黙祷 を ささげ たい と 存じ ます 。 \\n\"\n",
            "}{\n",
            "  \"和田宗春\": \"この 際 、 開 議 に 先立ち まし て 、 この たび の 東日本 大震災 により 亡くなら れ た 方々 の ご 冥福 を 祈る ため 、 黙祷 を ささげ たい と 存じ ます 。 \\n\",\n",
            "  \"白石弥生子\": \"全員 ご 起立 願い ます 。 \\n\"\n",
            "}{\n",
            "  \"和田宗春\": \"この 際 、 開 議 に 先立ち まし て 、 この たび の 東日本 大震災 により 亡くなら れ た 方々 の ご 冥福 を 祈る ため 、 黙祷 を ささげ たい と 存じ ます 。 \\n\",\n",
            "  \"白石弥生子\": \"〔 全員 起立 〕 \\n\"\n",
            "}{\n",
            "  \"和田宗春\": \"この 際 、 開 議 に 先立ち まし て 、 この たび の 東日本 大震災 により 亡くなら れ た 方々 の ご 冥福 を 祈る ため 、 黙祷 を ささげ たい と 存じ ます 。 \\n\",\n",
            "  \"白石弥生子\": \"黙祷 を お願い いたし ます 。 \\n\"\n",
            "}{\n",
            "  \"和田宗春\": \"この 際 、 開 議 に 先立ち まし て 、 この たび の 東日本 大震災 により 亡くなら れ た 方々 の ご 冥福 を 祈る ため 、 黙祷 を ささげ たい と 存じ ます 。 \\n\",\n",
            "  \"白石弥生子\": \"〔 黙 　 　 祷 〕 \\n\"\n",
            "}{\n",
            "  \"和田宗春\": \"この 際 、 開 議 に 先立ち まし て 、 この たび の 東日本 大震災 により 亡くなら れ た 方々 の ご 冥福 を 祈る ため 、 黙祷 を ささげ たい と 存じ ます 。 \\n\",\n",
            "  \"白石弥生子\": \"黙祷 を 終わり ます 。 \\n\"\n",
            "}{\n",
            "  \"和田宗春\": \"この 際 、 開 議 に 先立ち まし て 、 この たび の 東日本 大震災 により 亡くなら れ た 方々 の ご 冥福 を 祈る ため 、 黙祷 を ささげ たい と 存じ ます 。 \\n\",\n",
            "  \"白石弥生子\": \"ご 着席 願い ます 。 \\n\"\n",
            "}{\n",
            "  \"和田宗春\": \"この 際 、 開 議 に 先立ち まし て 、 この たび の 東日本 大震災 により 亡くなら れ た 方々 の ご 冥福 を 祈る ため 、 黙祷 を ささげ たい と 存じ ます 。 \\n\",\n",
            "  \"白石弥生子\": \"━━━━━━━━━━ \\n\"\n",
            "}\n"
          ],
          "name": "stdout"
        }
      ]
    },
    {
      "cell_type": "code",
      "metadata": {
        "id": "1I18nVIqSjQN",
        "colab_type": "code",
        "colab": {}
      },
      "source": [
        ""
      ],
      "execution_count": 0,
      "outputs": []
    }
  ]
}