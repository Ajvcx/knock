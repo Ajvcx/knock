{
  "nbformat": 4,
  "nbformat_minor": 0,
  "metadata": {
    "colab": {
      "name": "knock24.ipynb",
      "provenance": [],
      "authorship_tag": "ABX9TyOYrkLPUA0M1Gh+rzHGgEp2",
      "include_colab_link": true
    },
    "kernelspec": {
      "name": "python3",
      "display_name": "Python 3"
    }
  },
  "cells": [
    {
      "cell_type": "markdown",
      "metadata": {
        "id": "view-in-github",
        "colab_type": "text"
      },
      "source": [
        "<a href=\"https://colab.research.google.com/github/Ajvcx/knock/blob/master/knock24.ipynb\" target=\"_parent\"><img src=\"https://colab.research.google.com/assets/colab-badge.svg\" alt=\"Open In Colab\"/></a>"
      ]
    },
    {
      "cell_type": "code",
      "metadata": {
        "id": "ZYTFMxjjN-7P",
        "colab_type": "code",
        "colab": {
          "base_uri": "https://localhost:8080/",
          "height": 204
        },
        "outputId": "7bba41c6-091b-4dc8-ab51-b83615830d45"
      },
      "source": [
        "!wget http://www.cl.ecei.tohoku.ac.jp/nlp100/data/jawiki-country.json.gz"
      ],
      "execution_count": 1,
      "outputs": [
        {
          "output_type": "stream",
          "text": [
            "--2020-04-21 05:31:36--  http://www.cl.ecei.tohoku.ac.jp/nlp100/data/jawiki-country.json.gz\n",
            "Resolving www.cl.ecei.tohoku.ac.jp (www.cl.ecei.tohoku.ac.jp)... 130.34.192.83\n",
            "Connecting to www.cl.ecei.tohoku.ac.jp (www.cl.ecei.tohoku.ac.jp)|130.34.192.83|:80... connected.\n",
            "HTTP request sent, awaiting response... 200 OK\n",
            "Length: 3605822 (3.4M) [application/x-gzip]\n",
            "Saving to: ‘jawiki-country.json.gz’\n",
            "\n",
            "jawiki-country.json 100%[===================>]   3.44M  4.04MB/s    in 0.9s    \n",
            "\n",
            "2020-04-21 05:31:37 (4.04 MB/s) - ‘jawiki-country.json.gz’ saved [3605822/3605822]\n",
            "\n"
          ],
          "name": "stdout"
        }
      ]
    },
    {
      "cell_type": "code",
      "metadata": {
        "id": "T0PkR1z7OGxl",
        "colab_type": "code",
        "colab": {
          "base_uri": "https://localhost:8080/",
          "height": 904
        },
        "outputId": "f2bdbeef-76e2-4798-c143-e3c3453a3743"
      },
      "source": [
        "import gzip\n",
        "import json\n",
        "import re\n",
        "fname = 'jawiki-country.json.gz'\n",
        "d = []\n",
        "\n",
        "def UK():\n",
        "  with gzip.open(fname, 'rt') as data_file:\n",
        "    for line in data_file:\n",
        "      data_json = json.loads(line)\n",
        "      if data_json['title'] == 'イギリス':\n",
        "        return data_json['text']\n",
        "\n",
        "patternA = re.compile('^{{基礎情報.*?$(.*?)^}}$', re.MULTILINE+ re.DOTALL) \n",
        "# re.MULTILINE: ^は各行の先頭でマッチ(改行直後)、＄は各行端でマッチ(改行直前)するようになる\n",
        "# re.DOTALL: .は改行含むあらゆる文字とマッチするようになる\n",
        "\n",
        "a = patternA.findall(UK())\n",
        "#for b in a:\n",
        " # print(b)\n",
        "\n",
        "patternB = re.compile(r'[?:|](.+?)=\\s+(.+?)\\n')\n",
        "\n",
        "c = patternB.findall(b)\n",
        "\n",
        "for d in c:\n",
        "  print(d)"
      ],
      "execution_count": 81,
      "outputs": [
        {
          "output_type": "stream",
          "text": [
            "('略名 ', 'イギリス')\n",
            "('日本語国名 ', 'グレートブリテン及び北アイルランド連合王国')\n",
            "('公式国名 ', '{{lang|en|United Kingdom of Great Britain and Northern Ireland}}<ref>英語以外での正式国名:<br/>')\n",
            "('国旗画像 ', 'Flag of the United Kingdom.svg')\n",
            "('国章画像 ', '[[ファイル:Royal Coat of Arms of the United Kingdom.svg|85px|イギリスの国章]]')\n",
            "('国章リンク ', '（[[イギリスの国章|国章]]）')\n",
            "('標語 ', '{{lang|fr|Dieu et mon droit}}<br/>（[[フランス語]]:神と私の権利）')\n",
            "('国歌 ', '[[女王陛下万歳|神よ女王陛下を守り給え]]')\n",
            "('位置画像 ', 'Location_UK_EU_Europe_001.svg')\n",
            "('公用語 ', '[[英語]]（事実上）')\n",
            "('首都 ', '[[ロンドン]]')\n",
            "('最大都市 ', 'ロンドン')\n",
            "('元首等肩書 ', '[[イギリスの君主|女王]]')\n",
            "('元首等氏名 ', '[[エリザベス2世]]')\n",
            "('首相等肩書 ', '[[イギリスの首相|首相]]')\n",
            "('首相等氏名 ', '[[デーヴィッド・キャメロン]]')\n",
            "('面積順位 ', '76')\n",
            "('面積大きさ ', '1 E11')\n",
            "('面積値 ', '244,820')\n",
            "('水面積率 ', '1.3%')\n",
            "('人口統計年 ', '2011')\n",
            "('人口順位 ', '22')\n",
            "('人口大きさ ', '1 E7')\n",
            "('人口値 ', '63,181,775<ref>[http://esa.un.org/unpd/wpp/Excel-Data/population.htm United Nations Department of Economic and Social Affairs>Population Division>Data>Population>Total Population]</ref>')\n",
            "('人口密度値 ', '246')\n",
            "('GDP統計年元 ', '2012')\n",
            "('GDP値元 ', '1兆5478億<ref name=\"imf-statistics-gdp\">[http://www.imf.org/external/pubs/ft/weo/2012/02/weodata/weorept.aspx?pr.x=70&pr.y=13&sy=2010&ey=2012&scsm=1&ssd=1&sort=country&ds=.&br=1&c=112&s=NGDP%2CNGDPD%2CPPPGDP%2CPPPPC&grp=0&a= IMF>Data and Statistics>World Economic Outlook Databases>By Countrise>United Kingdom]</ref>')\n",
            "('GDP統計年MER ', '2012')\n",
            "('GDP順位MER ', '5')\n",
            "('GDP値MER ', '2兆4337億<ref name=\"imf-statistics-gdp\" />')\n",
            "('GDP統計年 ', '2012')\n",
            "('GDP順位 ', '6')\n",
            "('GDP値 ', '2兆3162億<ref name=\"imf-statistics-gdp\" />')\n",
            "('GDP/人 ', '36,727<ref name=\"imf-statistics-gdp\" />')\n",
            "('建国形態 ', '建国')\n",
            "('確立形態1 ', '[[イングランド王国]]／[[スコットランド王国]]<br />（両国とも[[連合法 (1707年)|1707年連合法]]まで）')\n",
            "('確立年月日1 ', '[[927年]]／[[843年]]')\n",
            "('確立形態2 ', '[[グレートブリテン王国]]建国<br />（[[連合法 (1707年)|1707年連合法]]）')\n",
            "('確立年月日2 ', '[[1707年]]')\n",
            "('確立形態3 ', '[[グレートブリテン及びアイルランド連合王国]]建国<br />（[[連合法 (1800年)|1800年連合法]]）')\n",
            "('確立年月日3 ', '[[1801年]]')\n",
            "('確立形態4 ', \"現在の国号「'''グレートブリテン及び北アイルランド連合王国'''」に変更\")\n",
            "('確立年月日4 ', '[[1927年]]')\n",
            "('通貨 ', '[[スターリング・ポンド|UKポンド]] (&pound;)')\n",
            "('通貨コード ', 'GBP')\n",
            "('時間帯 ', '±0')\n",
            "('夏時間 ', '+1')\n",
            "('ISO 3166-1 ', 'GB / GBR')\n",
            "('ccTLD ', '[[.uk]] / [[.gb]]<ref>使用は.ukに比べ圧倒的少数。</ref>')\n",
            "('国際電話番号 ', '44')\n",
            "('注記 ', '<references />')\n"
          ],
          "name": "stdout"
        }
      ]
    }
  ]
}