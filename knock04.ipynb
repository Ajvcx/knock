{
  "nbformat": 4,
  "nbformat_minor": 0,
  "metadata": {
    "colab": {
      "name": "knock04.ipynb",
      "provenance": [],
      "authorship_tag": "ABX9TyOGPAGJxIRWNr92f+8OPMsj",
      "include_colab_link": true
    },
    "kernelspec": {
      "name": "python3",
      "display_name": "Python 3"
    }
  },
  "cells": [
    {
      "cell_type": "markdown",
      "metadata": {
        "id": "view-in-github",
        "colab_type": "text"
      },
      "source": [
        "<a href=\"https://colab.research.google.com/github/Ajvcx/knock/blob/master/knock04.ipynb\" target=\"_parent\"><img src=\"https://colab.research.google.com/assets/colab-badge.svg\" alt=\"Open In Colab\"/></a>"
      ]
    },
    {
      "cell_type": "code",
      "metadata": {
        "id": "9srHLBP_En7N",
        "colab_type": "code",
        "colab": {
          "base_uri": "https://localhost:8080/",
          "height": 36
        },
        "outputId": "2ed0ddd9-7c73-46b5-8ff3-a851f12f7485"
      },
      "source": [
        "a =\"Hi He Lied Because Boron Could Not Oxidize Fluorine. New Nations Might Also Sign Peace Security Clause. Arthur King Can.\"\n",
        "b ={}\n",
        "sentou =(1, 5, 6, 7, 8, 9, 15, 16, 19)\n",
        "\n",
        "c =a.split(\" \")\n",
        "for (num,d) in enumerate(c,1):\n",
        "  if num in sentou:\n",
        "    b[d[0:1]]=num\n",
        "  else:\n",
        "    if num == 13:\n",
        "      b[\"Mg\"] = num\n",
        "    else:\n",
        "      b[d[0:2]]=num\n",
        "\n",
        "print(b)\n"
      ],
      "execution_count": 3,
      "outputs": [
        {
          "output_type": "stream",
          "text": [
            "{'H': 1, 'He': 2, 'Li': 3, 'Be': 4, 'B': 5, 'C': 6, 'N': 7, 'O': 8, 'F': 9, 'Ne': 10, 'Na': 11, 'Mi': 12, 'Mg': 13, 'Si': 14, 'P': 15, 'S': 16, 'Cl': 17, 'Ar': 18, 'K': 19, 'Ca': 20}\n"
          ],
          "name": "stdout"
        }
      ]
    }
  ]
}