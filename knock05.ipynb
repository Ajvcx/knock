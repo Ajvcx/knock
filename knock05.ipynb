{
  "nbformat": 4,
  "nbformat_minor": 0,
  "metadata": {
    "colab": {
      "name": "knock05.ipynb",
      "provenance": [],
      "authorship_tag": "ABX9TyMgBEJuiE4lFq/2E8LKcIQy",
      "include_colab_link": true
    },
    "kernelspec": {
      "name": "python3",
      "display_name": "Python 3"
    }
  },
  "cells": [
    {
      "cell_type": "markdown",
      "metadata": {
        "id": "view-in-github",
        "colab_type": "text"
      },
      "source": [
        "<a href=\"https://colab.research.google.com/github/Ajvcx/knock/blob/master/knock05.ipynb\" target=\"_parent\"><img src=\"https://colab.research.google.com/assets/colab-badge.svg\" alt=\"Open In Colab\"/></a>"
      ]
    },
    {
      "cell_type": "code",
      "metadata": {
        "id": "0A6d0lggPYl7",
        "colab_type": "code",
        "colab": {
          "base_uri": "https://localhost:8080/",
          "height": 51
        },
        "outputId": "500984d9-836b-488b-a0f3-25ca4eab43f6"
      },
      "source": [
        "def n_gram(target, n):\n",
        "  result = []\n",
        "  for i in range(0, len(target) - n + 1):\n",
        "      result.append(target[i:i + n])\n",
        "\n",
        "  return result\n",
        "\n",
        "target = 'I am an NLPer'\n",
        "words_target = target.split(' ')\n",
        "\n",
        "result = n_gram(words_target, 2)\n",
        "print(result)\n",
        "\n",
        "result = n_gram(target, 2)\n",
        "print(result)\n"
      ],
      "execution_count": 1,
      "outputs": [
        {
          "output_type": "stream",
          "text": [
            "[['I', 'am'], ['am', 'an'], ['an', 'NLPer']]\n",
            "['I ', ' a', 'am', 'm ', ' a', 'an', 'n ', ' N', 'NL', 'LP', 'Pe', 'er']\n"
          ],
          "name": "stdout"
        }
      ]
    }
  ]
}