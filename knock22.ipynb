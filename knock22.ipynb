{
  "nbformat": 4,
  "nbformat_minor": 0,
  "metadata": {
    "colab": {
      "name": "knock22.ipynb",
      "provenance": [],
      "authorship_tag": "ABX9TyNnUHQW8pnVcbLEYhxwAa5B",
      "include_colab_link": true
    },
    "kernelspec": {
      "name": "python3",
      "display_name": "Python 3"
    }
  },
  "cells": [
    {
      "cell_type": "markdown",
      "metadata": {
        "id": "view-in-github",
        "colab_type": "text"
      },
      "source": [
        "<a href=\"https://colab.research.google.com/github/Ajvcx/knock/blob/master/knock22.ipynb\" target=\"_parent\"><img src=\"https://colab.research.google.com/assets/colab-badge.svg\" alt=\"Open In Colab\"/></a>"
      ]
    },
    {
      "cell_type": "code",
      "metadata": {
        "id": "xG5WZkGilW2H",
        "colab_type": "code",
        "colab": {
          "base_uri": "https://localhost:8080/",
          "height": 204
        },
        "outputId": "e88af037-7262-494d-a50a-9fb17e30c513"
      },
      "source": [
        "!wget http://www.cl.ecei.tohoku.ac.jp/nlp100/data/jawiki-country.json.gz"
      ],
      "execution_count": 31,
      "outputs": [
        {
          "output_type": "stream",
          "text": [
            "--2020-04-20 13:34:06--  http://www.cl.ecei.tohoku.ac.jp/nlp100/data/jawiki-country.json.gz\n",
            "Resolving www.cl.ecei.tohoku.ac.jp (www.cl.ecei.tohoku.ac.jp)... 130.34.192.83\n",
            "Connecting to www.cl.ecei.tohoku.ac.jp (www.cl.ecei.tohoku.ac.jp)|130.34.192.83|:80... connected.\n",
            "HTTP request sent, awaiting response... 200 OK\n",
            "Length: 3605822 (3.4M) [application/x-gzip]\n",
            "Saving to: ‘jawiki-country.json.gz’\n",
            "\n",
            "jawiki-country.json 100%[===================>]   3.44M  2.51MB/s    in 1.4s    \n",
            "\n",
            "2020-04-20 13:34:09 (2.51 MB/s) - ‘jawiki-country.json.gz’ saved [3605822/3605822]\n",
            "\n"
          ],
          "name": "stdout"
        }
      ]
    },
    {
      "cell_type": "code",
      "metadata": {
        "id": "P_jccxaJlaB-",
        "colab_type": "code",
        "colab": {
          "base_uri": "https://localhost:8080/",
          "height": 51
        },
        "outputId": "6122b04e-13bd-442d-a0ac-5de775427761"
      },
      "source": [
        " import gzip\n",
        " import json\n",
        " import re\n",
        " fname = \"jawiki-country.json.gz\"\n",
        " amano = []\n",
        "\n",
        " def UK():\n",
        "   with gzip.open(fname, 'r') as data_file:\n",
        "     print(type(data_file))\n",
        "     for line in data_file:\n",
        "        data_json = json.loads(line)\n",
        "        if data_json['title'] == 'イギリス':\n",
        "         amano.append(data_json['title'])\n",
        "     return amano\n",
        "\n",
        "a = UK()\n",
        "print(a)"
      ],
      "execution_count": 54,
      "outputs": [
        {
          "output_type": "stream",
          "text": [
            "<class 'gzip.GzipFile'>\n",
            "['イギリス']\n"
          ],
          "name": "stdout"
        }
      ]
    }
  ]
}