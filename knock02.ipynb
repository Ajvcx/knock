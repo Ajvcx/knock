{
  "nbformat": 4,
  "nbformat_minor": 0,
  "metadata": {
    "colab": {
      "name": "knock02.ipynb",
      "provenance": [],
      "authorship_tag": "ABX9TyPN9lsC4ihmuW325uT4YpNF",
      "include_colab_link": true
    },
    "kernelspec": {
      "name": "python3",
      "display_name": "Python 3"
    }
  },
  "cells": [
    {
      "cell_type": "markdown",
      "metadata": {
        "id": "view-in-github",
        "colab_type": "text"
      },
      "source": [
        "<a href=\"https://colab.research.google.com/github/Ajvcx/knock/blob/master/knock02.ipynb\" target=\"_parent\"><img src=\"https://colab.research.google.com/assets/colab-badge.svg\" alt=\"Open In Colab\"/></a>"
      ]
    },
    {
      "cell_type": "markdown",
      "metadata": {
        "id": "qzOo08tsgxwZ",
        "colab_type": "text"
      },
      "source": [
        "「パトカー」＋「タクシー」の文字を先頭から交互に連結して文字列「パタトクカシーー」を得よ"
      ]
    },
    {
      "cell_type": "code",
      "metadata": {
        "id": "VzXW2-bd_AM9",
        "colab_type": "code",
        "outputId": "f7e23ab8-d978-4f00-c35c-3675c69555a7",
        "colab": {
          "base_uri": "https://localhost:8080/",
          "height": 34
        }
      },
      "source": [
        "a = \"パトカー\"\n",
        "b = \"タクシー\"\n",
        "c = \"\"\n",
        "#繰り返し処理\n",
        "for (a, b) in zip(a, b): #for 格納先 in 格納するもの\n",
        "  c += a + b\n",
        "print(c)"
      ],
      "execution_count": 5,
      "outputs": [
        {
          "output_type": "stream",
          "text": [
            "パタトクカシーー\n"
          ],
          "name": "stdout"
        }
      ]
    }
  ]
}