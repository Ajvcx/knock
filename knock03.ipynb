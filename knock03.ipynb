{
  "nbformat": 4,
  "nbformat_minor": 0,
  "metadata": {
    "colab": {
      "name": "knock03.ipynb",
      "provenance": [],
      "authorship_tag": "ABX9TyP7G+Y9aas7YUivjJjGXisc",
      "include_colab_link": true
    },
    "kernelspec": {
      "name": "python3",
      "display_name": "Python 3"
    }
  },
  "cells": [
    {
      "cell_type": "markdown",
      "metadata": {
        "id": "view-in-github",
        "colab_type": "text"
      },
      "source": [
        "<a href=\"https://colab.research.google.com/github/Ajvcx/knock/blob/master/knock03.ipynb\" target=\"_parent\"><img src=\"https://colab.research.google.com/assets/colab-badge.svg\" alt=\"Open In Colab\"/></a>"
      ]
    },
    {
      "cell_type": "code",
      "metadata": {
        "id": "1xS264nqAjar",
        "colab_type": "code",
        "colab": {
          "base_uri": "https://localhost:8080/",
          "height": 300
        },
        "outputId": "bb2de90a-c04b-4ff5-878b-1c32e9368c01"
      },
      "source": [
        "a = \"Now I need a drink, alcoholic of course, after the heavy lectures involving quantum mechanics.\"\n",
        "b = []\n",
        "\n",
        "c = a.split(\" \")\n",
        "for c in c:\n",
        "  b.append(len(c)-c.count(\",\")-c.count(\".\"))\n",
        "  print(b)"
      ],
      "execution_count": 3,
      "outputs": [
        {
          "output_type": "stream",
          "text": [
            "[3]\n",
            "[3, 1]\n",
            "[3, 1, 4]\n",
            "[3, 1, 4, 1]\n",
            "[3, 1, 4, 1, 5]\n",
            "[3, 1, 4, 1, 5, 9]\n",
            "[3, 1, 4, 1, 5, 9, 2]\n",
            "[3, 1, 4, 1, 5, 9, 2, 6]\n",
            "[3, 1, 4, 1, 5, 9, 2, 6, 5]\n",
            "[3, 1, 4, 1, 5, 9, 2, 6, 5, 3]\n",
            "[3, 1, 4, 1, 5, 9, 2, 6, 5, 3, 5]\n",
            "[3, 1, 4, 1, 5, 9, 2, 6, 5, 3, 5, 8]\n",
            "[3, 1, 4, 1, 5, 9, 2, 6, 5, 3, 5, 8, 9]\n",
            "[3, 1, 4, 1, 5, 9, 2, 6, 5, 3, 5, 8, 9, 7]\n",
            "[3, 1, 4, 1, 5, 9, 2, 6, 5, 3, 5, 8, 9, 7, 9]\n"
          ],
          "name": "stdout"
        }
      ]
    }
  ]
}