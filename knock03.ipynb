{
  "nbformat": 4,
  "nbformat_minor": 0,
  "metadata": {
    "colab": {
      "name": "knock03.ipynb",
      "provenance": [],
      "authorship_tag": "ABX9TyOi9AdHjgglHHtH070/LClt",
      "include_colab_link": true
    },
    "kernelspec": {
      "name": "python3",
      "display_name": "Python 3"
    }
  },
  "cells": [
    {
      "cell_type": "markdown",
      "metadata": {
        "id": "view-in-github",
        "colab_type": "text"
      },
      "source": [
        "<a href=\"https://colab.research.google.com/github/Ajvcx/knock/blob/master/knock03.ipynb\" target=\"_parent\"><img src=\"https://colab.research.google.com/assets/colab-badge.svg\" alt=\"Open In Colab\"/></a>"
      ]
    },
    {
      "cell_type": "markdown",
      "metadata": {
        "id": "F_S9sBJoi6Rn",
        "colab_type": "text"
      },
      "source": [
        "各単語の（アルファベットの）文字数を先頭から出現順に並べたリストを作成せよ．"
      ]
    },
    {
      "cell_type": "code",
      "metadata": {
        "id": "1xS264nqAjar",
        "colab_type": "code",
        "outputId": "050d9f96-cdc7-4b67-e688-95f89b3c23bc",
        "colab": {
          "base_uri": "https://localhost:8080/",
          "height": 272
        }
      },
      "source": [
        "a = \"Now I need a drink, alcoholic of course, after the heavy lectures involving quantum mechanics.\"\n",
        "b = []\n",
        "#分割処理\n",
        "c = a.split(\" \")  #.split(\"条件\")\n",
        "for d in c:\n",
        "#要素追加、サイズ測定、出現個数測定\n",
        "  b.append(len(d) - c.count(\",\") - c.count(\".\"))  \n",
        "  print(b)"
      ],
      "execution_count": 1,
      "outputs": [
        {
          "output_type": "stream",
          "text": [
            "[3]\n",
            "[3, 1]\n",
            "[3, 1, 4]\n",
            "[3, 1, 4, 1]\n",
            "[3, 1, 4, 1, 6]\n",
            "[3, 1, 4, 1, 6, 9]\n",
            "[3, 1, 4, 1, 6, 9, 2]\n",
            "[3, 1, 4, 1, 6, 9, 2, 7]\n",
            "[3, 1, 4, 1, 6, 9, 2, 7, 5]\n",
            "[3, 1, 4, 1, 6, 9, 2, 7, 5, 3]\n",
            "[3, 1, 4, 1, 6, 9, 2, 7, 5, 3, 5]\n",
            "[3, 1, 4, 1, 6, 9, 2, 7, 5, 3, 5, 8]\n",
            "[3, 1, 4, 1, 6, 9, 2, 7, 5, 3, 5, 8, 9]\n",
            "[3, 1, 4, 1, 6, 9, 2, 7, 5, 3, 5, 8, 9, 7]\n",
            "[3, 1, 4, 1, 6, 9, 2, 7, 5, 3, 5, 8, 9, 7, 10]\n"
          ],
          "name": "stdout"
        }
      ]
    }
  ]
}