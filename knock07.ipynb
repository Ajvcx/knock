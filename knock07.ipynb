{
  "nbformat": 4,
  "nbformat_minor": 0,
  "metadata": {
    "colab": {
      "name": "knock07.ipynb",
      "provenance": [],
      "authorship_tag": "ABX9TyMR7bHOOLl+wXOuKCbfI61L",
      "include_colab_link": true
    },
    "kernelspec": {
      "name": "python3",
      "display_name": "Python 3"
    }
  },
  "cells": [
    {
      "cell_type": "markdown",
      "metadata": {
        "id": "view-in-github",
        "colab_type": "text"
      },
      "source": [
        "<a href=\"https://colab.research.google.com/github/Ajvcx/knock/blob/master/knock07.ipynb\" target=\"_parent\"><img src=\"https://colab.research.google.com/assets/colab-badge.svg\" alt=\"Open In Colab\"/></a>"
      ]
    },
    {
      "cell_type": "code",
      "metadata": {
        "id": "L4CyicU1T2Tp",
        "colab_type": "code",
        "colab": {
          "base_uri": "https://localhost:8080/",
          "height": 34
        },
        "outputId": "b9b34db8-4e3f-4f88-dcbb-87b835f59a00"
      },
      "source": [
        "def format_string(x, y, z):\n",
        "  return '{hour}時の{target}は{value}'.format(hour=x, target=y, value=z)\n",
        "\n",
        "x = 12\n",
        "y = '気温'\n",
        "z = 22.4\n",
        "print(format_string(x, y, z))"
      ],
      "execution_count": 1,
      "outputs": [
        {
          "output_type": "stream",
          "text": [
            "12時の気温は22.4\n"
          ],
          "name": "stdout"
        }
      ]
    }
  ]
}