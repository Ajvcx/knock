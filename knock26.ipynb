{
  "nbformat": 4,
  "nbformat_minor": 0,
  "metadata": {
    "colab": {
      "name": "knock26.ipynb",
      "provenance": [],
      "collapsed_sections": [],
      "authorship_tag": "ABX9TyOFaKCtfNN6SoVlUyl5f/oT",
      "include_colab_link": true
    },
    "kernelspec": {
      "name": "python3",
      "display_name": "Python 3"
    }
  },
  "cells": [
    {
      "cell_type": "markdown",
      "metadata": {
        "id": "view-in-github",
        "colab_type": "text"
      },
      "source": [
        "<a href=\"https://colab.research.google.com/github/Ajvcx/knock/blob/master/knock26.ipynb\" target=\"_parent\"><img src=\"https://colab.research.google.com/assets/colab-badge.svg\" alt=\"Open In Colab\"/></a>"
      ]
    },
    {
      "cell_type": "code",
      "metadata": {
        "id": "TTabKQgdmqbq",
        "colab_type": "code",
        "outputId": "59c1d22d-2cdd-4933-b0ba-198eaf8ffd1b",
        "colab": {
          "base_uri": "https://localhost:8080/",
          "height": 224
        }
      },
      "source": [
        "!wget http://www.cl.ecei.tohoku.ac.jp/nlp100/data/jawiki-country.json.gz"
      ],
      "execution_count": 0,
      "outputs": [
        {
          "output_type": "stream",
          "text": [
            "--2020-04-24 05:13:44--  http://www.cl.ecei.tohoku.ac.jp/nlp100/data/jawiki-country.json.gz\n",
            "Resolving www.cl.ecei.tohoku.ac.jp (www.cl.ecei.tohoku.ac.jp)... 130.34.192.83\n",
            "Connecting to www.cl.ecei.tohoku.ac.jp (www.cl.ecei.tohoku.ac.jp)|130.34.192.83|:80... connected.\n",
            "HTTP request sent, awaiting response... 200 OK\n",
            "Length: 3605822 (3.4M) [application/x-gzip]\n",
            "Saving to: ‘jawiki-country.json.gz’\n",
            "\n",
            "\rjawiki-country.json   0%[                    ]       0  --.-KB/s               \rjawiki-country.json   7%[>                   ] 276.19K  1.33MB/s               \rjawiki-country.json  49%[========>           ]   1.69M  4.07MB/s               \rjawiki-country.json 100%[===================>]   3.44M  5.73MB/s    in 0.6s    \n",
            "\n",
            "2020-04-24 05:13:45 (5.73 MB/s) - ‘jawiki-country.json.gz’ saved [3605822/3605822]\n",
            "\n"
          ],
          "name": "stdout"
        }
      ]
    },
    {
      "cell_type": "code",
      "metadata": {
        "id": "-FpSS4JBmupC",
        "colab_type": "code",
        "colab": {
          "base_uri": "https://localhost:8080/",
          "height": 965
        },
        "outputId": "23f4a2d6-613e-4048-b30c-e598cd2d59d7"
      },
      "source": [
        "import gzip\n",
        "import json\n",
        "import re\n",
        "fname = 'jawiki-country.json.gz'\n",
        "\n",
        "def UK():\n",
        "  with gzip.open(fname, 'rt') as data_file:\n",
        "    for line in data_file:\n",
        "      data_json = json.loads(line)\n",
        "      if data_json['title'] == 'イギリス':\n",
        "        return data_json['text']\n",
        "\n",
        "def markup(target):\n",
        "  patternC = re.compile(r'\\'', re.MULTILINE)\n",
        "\n",
        "  return patternC.sub('', target)\n",
        "\n",
        "patternA = re.compile('^{{基礎情報.*?$(.*?)^}}$', re.MULTILINE+ re.DOTALL)\n",
        "\n",
        "tenpure = patternA.findall(UK())\n",
        "\n",
        "patternB = re.compile(r'[?:|](.+?)\\s*=\\s*(.+?)(?:(?=\\n\\|)|(?=\\n$))', re.MULTILINE +re.DOTALL)\n",
        "\n",
        "fields = patternB.findall(tenpure[0])\n",
        "\n",
        "result = {}\n",
        "keys = []\n",
        "for field in fields:\n",
        "  result[field[0]] = markup((field[1]))\n",
        "  keys.append(field[0])\n",
        "\n",
        "for item in sorted(result.items(),\n",
        "                   key=lambda field: keys.index(field[0])):\n",
        "  print(item)"
      ],
      "execution_count": 9,
      "outputs": [
        {
          "output_type": "stream",
          "text": [
            "('略名', 'イギリス')\n",
            "('日本語国名', 'グレートブリテン及び北アイルランド連合王国')\n",
            "('公式国名', '{{lang|en|United Kingdom of Great Britain and Northern Ireland}}<ref>英語以外での正式国名:<br/>\\n*{{lang|gd|An Rìoghachd Aonaichte na Breatainn Mhòr agus Eirinn mu Thuath}}（[[スコットランド・ゲール語]]）<br/>\\n*{{lang|cy|Teyrnas Gyfunol Prydain Fawr a Gogledd Iwerddon}}（[[ウェールズ語]]）<br/>\\n*{{lang|ga|Ríocht Aontaithe na Breataine Móire agus Tuaisceart na hÉireann}}（[[アイルランド語]]）<br/>\\n*{{lang|kw|An Rywvaneth Unys a Vreten Veur hag Iwerdhon Glédh}}（[[コーンウォール語]]）<br/>\\n*{{lang|sco|Unitit Kinrick o Great Breetain an Northren Ireland}}（[[スコットランド語]]）<br/>\\n**{{lang|sco|Claught Kängrick o Docht Brätain an Norlin Airlann}}、{{lang|sco|Unitet Kängdom o Great Brittain an Norlin Airlann}}（アルスター・スコットランド語）</ref>')\n",
            "('国旗画像', 'Flag of the United Kingdom.svg')\n",
            "('国章画像', '[[ファイル:Royal Coat of Arms of the United Kingdom.svg|85px|イギリスの国章]]')\n",
            "('国章リンク', '（[[イギリスの国章|国章]]）')\n",
            "('標語', '{{lang|fr|Dieu et mon droit}}<br/>（[[フランス語]]:神と私の権利）')\n",
            "('国歌', '[[女王陛下万歳|神よ女王陛下を守り給え]]')\n",
            "('位置画像', 'Location_UK_EU_Europe_001.svg')\n",
            "('公用語', '[[英語]]（事実上）')\n",
            "('首都', '[[ロンドン]]')\n",
            "('最大都市', 'ロンドン')\n",
            "('元首等肩書', '[[イギリスの君主|女王]]')\n",
            "('元首等氏名', '[[エリザベス2世]]')\n",
            "('首相等肩書', '[[イギリスの首相|首相]]')\n",
            "('首相等氏名', '[[デーヴィッド・キャメロン]]')\n",
            "('面積順位', '76')\n",
            "('面積大きさ', '1 E11')\n",
            "('面積値', '244,820')\n",
            "('水面積率', '1.3%')\n",
            "('人口統計年', '2011')\n",
            "('人口順位', '22')\n",
            "('人口大きさ', '1 E7')\n",
            "('人口値', '63,181,775<ref>[http://esa.un.org/unpd/wpp/Excel-Data/population.htm United Nations Department of Economic and Social Affairs>Population Division>Data>Population>Total Population]</ref>')\n",
            "('人口密度値', '246')\n",
            "('GDP統計年元', '2012')\n",
            "('GDP値元', '1兆5478億<ref name=\"imf-statistics-gdp\">[http://www.imf.org/external/pubs/ft/weo/2012/02/weodata/weorept.aspx?pr.x=70&pr.y=13&sy=2010&ey=2012&scsm=1&ssd=1&sort=country&ds=.&br=1&c=112&s=NGDP%2CNGDPD%2CPPPGDP%2CPPPPC&grp=0&a= IMF>Data and Statistics>World Economic Outlook Databases>By Countrise>United Kingdom]</ref>')\n",
            "('GDP統計年MER', '2012')\n",
            "('GDP順位MER', '5')\n",
            "('GDP値MER', '2兆4337億<ref name=\"imf-statistics-gdp\" />')\n",
            "('GDP統計年', '2012')\n",
            "('GDP順位', '6')\n",
            "('GDP値', '2兆3162億<ref name=\"imf-statistics-gdp\" />')\n",
            "('GDP/人', '36,727<ref name=\"imf-statistics-gdp\" />')\n",
            "('建国形態', '建国')\n",
            "('確立形態1', '[[イングランド王国]]／[[スコットランド王国]]<br />（両国とも[[連合法 (1707年)|1707年連合法]]まで）')\n",
            "('確立年月日1', '[[927年]]／[[843年]]')\n",
            "('確立形態2', '[[グレートブリテン王国]]建国<br />（[[連合法 (1707年)|1707年連合法]]）')\n",
            "('確立年月日2', '[[1707年]]')\n",
            "('確立形態3', '[[グレートブリテン及びアイルランド連合王国]]建国<br />（[[連合法 (1800年)|1800年連合法]]）')\n",
            "('確立年月日3', '[[1801年]]')\n",
            "('確立形態4', '現在の国号「グレートブリテン及び北アイルランド連合王国」に変更')\n",
            "('確立年月日4', '[[1927年]]')\n",
            "('通貨', '[[スターリング・ポンド|UKポンド]] (&pound;)')\n",
            "('通貨コード', 'GBP')\n",
            "('時間帯', '±0')\n",
            "('夏時間', '+1')\n",
            "('ISO 3166-1', 'GB / GBR')\n",
            "('ccTLD', '[[.uk]] / [[.gb]]<ref>使用は.ukに比べ圧倒的少数。</ref>')\n",
            "('国際電話番号', '44')\n",
            "('注記', '<references />')\n"
          ],
          "name": "stdout"
        }
      ]
    }
  ]
}