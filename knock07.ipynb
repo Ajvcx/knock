{
  "nbformat": 4,
  "nbformat_minor": 0,
  "metadata": {
    "colab": {
      "name": "knock07.ipynb",
      "provenance": [],
      "authorship_tag": "ABX9TyOOc9RiBbkAUQtFsfXsVajh",
      "include_colab_link": true
    },
    "kernelspec": {
      "name": "python3",
      "display_name": "Python 3"
    }
  },
  "cells": [
    {
      "cell_type": "markdown",
      "metadata": {
        "id": "view-in-github",
        "colab_type": "text"
      },
      "source": [
        "<a href=\"https://colab.research.google.com/github/Ajvcx/knock/blob/master/knock07.ipynb\" target=\"_parent\"><img src=\"https://colab.research.google.com/assets/colab-badge.svg\" alt=\"Open In Colab\"/></a>"
      ]
    },
    {
      "cell_type": "markdown",
      "metadata": {
        "id": "7dwvEYh6nSXm",
        "colab_type": "text"
      },
      "source": [
        "引数x, y, zを受け取り「x時のyはz」という文字列を返す関数を実装せよ．さらに，x=12, y=\"気温\", z=22.4として，実行結果を確認せよ．"
      ]
    },
    {
      "cell_type": "code",
      "metadata": {
        "id": "L4CyicU1T2Tp",
        "colab_type": "code",
        "outputId": "b9b34db8-4e3f-4f88-dcbb-87b835f59a00",
        "colab": {
          "base_uri": "https://localhost:8080/",
          "height": 34
        }
      },
      "source": [
        "def format_string(x, y, z):\n",
        "  return '{hour}時の{target}は{value}'.format(hour=x, target=y, value=z)\n",
        "\n",
        "x = 12\n",
        "y = '気温'\n",
        "z = 22.4\n",
        "print(format_string(x, y, z))"
      ],
      "execution_count": 0,
      "outputs": [
        {
          "output_type": "stream",
          "text": [
            "12時の気温は22.4\n"
          ],
          "name": "stdout"
        }
      ]
    }
  ]
}