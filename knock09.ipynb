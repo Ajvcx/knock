{
  "nbformat": 4,
  "nbformat_minor": 0,
  "metadata": {
    "colab": {
      "name": "knock09.ipynb",
      "provenance": [],
      "authorship_tag": "ABX9TyOrWstdiOvhjNpDk2C2qc8y",
      "include_colab_link": true
    },
    "kernelspec": {
      "name": "python3",
      "display_name": "Python 3"
    }
  },
  "cells": [
    {
      "cell_type": "markdown",
      "metadata": {
        "id": "view-in-github",
        "colab_type": "text"
      },
      "source": [
        "<a href=\"https://colab.research.google.com/github/Ajvcx/knock/blob/master/knock09.ipynb\" target=\"_parent\"><img src=\"https://colab.research.google.com/assets/colab-badge.svg\" alt=\"Open In Colab\"/></a>"
      ]
    },
    {
      "cell_type": "markdown",
      "metadata": {
        "id": "HAJ6Wjtrnqso",
        "colab_type": "text"
      },
      "source": [
        "スペースで区切られた単語列に対して，各単語の先頭と末尾の文字は残し，それ以外の文字の順序をランダムに並び替えるプログラムを作成せよ．ただし，長さが４以下の単語は並び替えないこととする."
      ]
    },
    {
      "cell_type": "code",
      "metadata": {
        "id": "73z7HbEE5-Kh",
        "colab_type": "code",
        "outputId": "10853a39-30d8-4d3f-f9be-bce4ab6f9156",
        "colab": {
          "base_uri": "https://localhost:8080/",
          "height": 71
        }
      },
      "source": [
        "import random\n",
        "\n",
        "def Typoglycemia(target):\n",
        "   result = []\n",
        "   for word in target.split(' '):\n",
        "     if len(word) <= 4:\n",
        "         result.append(word)\n",
        "     else:\n",
        "         chr_list = list(word[1:-1])\n",
        "         random.shuffle(chr_list)\n",
        "         result.append(word[0] + ''.join(chr_list) + word[-1])\n",
        "\n",
        "#リスト結合\n",
        "   return ' '.join(result)　#.join(リスト名)\n",
        "\n",
        "target = input('文字列を入力してください　:　')\n",
        "\n",
        "result = Typoglycemia(target)\n",
        "print('変換結果:' + result)"
      ],
      "execution_count": 2,
      "outputs": [
        {
          "output_type": "stream",
          "text": [
            "文字列を入力してください　:　I couldn't believe that I could actually understand what I was reading : the phenomenal power of the human mind .\n",
            "変換結果:I cdul'not bevilee that I could aactluly uasednrntd what I was rdianeg : the poneeahnml pweor of the hmaun mind .\n"
          ],
          "name": "stdout"
        }
      ]
    }
  ]
}