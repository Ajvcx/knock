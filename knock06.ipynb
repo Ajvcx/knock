{
  "nbformat": 4,
  "nbformat_minor": 0,
  "metadata": {
    "colab": {
      "name": "knock06.ipynb",
      "provenance": [],
      "authorship_tag": "ABX9TyM+znUa37hJkhFMD13W+nu9",
      "include_colab_link": true
    },
    "kernelspec": {
      "name": "python3",
      "display_name": "Python 3"
    }
  },
  "cells": [
    {
      "cell_type": "markdown",
      "metadata": {
        "id": "view-in-github",
        "colab_type": "text"
      },
      "source": [
        "<a href=\"https://colab.research.google.com/github/Ajvcx/knock/blob/master/knock06.ipynb\" target=\"_parent\"><img src=\"https://colab.research.google.com/assets/colab-badge.svg\" alt=\"Open In Colab\"/></a>"
      ]
    },
    {
      "cell_type": "code",
      "metadata": {
        "id": "nZHsIxgbRTjd",
        "colab_type": "code",
        "colab": {
          "base_uri": "https://localhost:8080/",
          "height": 136
        },
        "outputId": "c1f84815-bc25-4c2c-c71e-7c0d1895b82a"
      },
      "source": [
        "def n_gram(target, n):\n",
        "  result = []\n",
        "  for i in range(0, len(target) - n + 1):\n",
        "      result.append(target[i:i + n])\n",
        "\n",
        "  return result\n",
        "\n",
        "set_x = set(n_gram('paraparaparadise', 2))\n",
        "print('X:' + str(set_x))\n",
        "set_y = set(n_gram('paragraph', 2))\n",
        "print('Y:' + str(set_y))\n",
        "\n",
        "set_or = set_x | set_y\n",
        "print('和集合:' + str(set_or))\n",
        "\n",
        "set_and = set_x & set_y\n",
        "print('積集合:' + str(set_and))\n",
        "\n",
        "set_sub = set_x - set_y\n",
        "print('差集合:' + str(set_sub))\n",
        "\n",
        "print('seがXに含まれる:' + str('se' in set_x))\n",
        "print('seがYに含まれる:' + str('se' in set_y))"
      ],
      "execution_count": 3,
      "outputs": [
        {
          "output_type": "stream",
          "text": [
            "X:{'di', 'se', 'pa', 'ad', 'ar', 'is', 'ap', 'ra'}\n",
            "Y:{'ph', 'ag', 'gr', 'pa', 'ar', 'ap', 'ra'}\n",
            "和集合:{'di', 'ph', 'ag', 'gr', 'se', 'pa', 'ad', 'ar', 'is', 'ap', 'ra'}\n",
            "積集合:{'pa', 'ra', 'ap', 'ar'}\n",
            "差集合:{'se', 'di', 'ad', 'is'}\n",
            "seがXに含まれる:True\n",
            "seがYに含まれる:False\n"
          ],
          "name": "stdout"
        }
      ]
    }
  ]
}