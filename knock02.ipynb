{
  "nbformat": 4,
  "nbformat_minor": 0,
  "metadata": {
    "colab": {
      "name": "knock02.ipynb",
      "provenance": [],
      "authorship_tag": "ABX9TyNLolSYMcO7D2EsCeRHPQ2/",
      "include_colab_link": true
    },
    "kernelspec": {
      "name": "python3",
      "display_name": "Python 3"
    }
  },
  "cells": [
    {
      "cell_type": "markdown",
      "metadata": {
        "id": "view-in-github",
        "colab_type": "text"
      },
      "source": [
        "<a href=\"https://colab.research.google.com/github/Ajvcx/knock/blob/master/knock02.ipynb\" target=\"_parent\"><img src=\"https://colab.research.google.com/assets/colab-badge.svg\" alt=\"Open In Colab\"/></a>"
      ]
    },
    {
      "cell_type": "code",
      "metadata": {
        "id": "VzXW2-bd_AM9",
        "colab_type": "code",
        "colab": {
          "base_uri": "https://localhost:8080/",
          "height": 36
        },
        "outputId": "6fa313d1-d9a3-4c7e-8290-ae006aff3bfe"
      },
      "source": [
        "a = \"パトカー\"\n",
        "b = \"タクシー\"\n",
        "c = \"\"\n",
        "for(a,b) in zip(a,b):\n",
        "  c += a + b\n",
        "print(c)"
      ],
      "execution_count": 3,
      "outputs": [
        {
          "output_type": "stream",
          "text": [
            "パタトクカシーー\n"
          ],
          "name": "stdout"
        }
      ]
    }
  ]
}