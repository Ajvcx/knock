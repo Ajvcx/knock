{
  "nbformat": 4,
  "nbformat_minor": 0,
  "metadata": {
    "colab": {
      "name": "knock08.ipynb",
      "provenance": [],
      "authorship_tag": "ABX9TyOXEMQuLehrrnr9iMmXoru1",
      "include_colab_link": true
    },
    "kernelspec": {
      "name": "python3",
      "display_name": "Python 3"
    }
  },
  "cells": [
    {
      "cell_type": "markdown",
      "metadata": {
        "id": "view-in-github",
        "colab_type": "text"
      },
      "source": [
        "<a href=\"https://colab.research.google.com/github/Ajvcx/knock/blob/master/knock08.ipynb\" target=\"_parent\"><img src=\"https://colab.research.google.com/assets/colab-badge.svg\" alt=\"Open In Colab\"/></a>"
      ]
    },
    {
      "cell_type": "markdown",
      "metadata": {
        "id": "bHN4QN8BobDo",
        "colab_type": "text"
      },
      "source": [
        "与えられた文字列の各文字を，以下の仕様で変換する関数cipherを実装せよ．\n",
        "\n",
        "・英小文字ならば(219 - 文字コード)の文字に置換\n",
        "\n",
        "\n",
        "\n",
        "・その他の文字はそのまま出力\n",
        "\n",
        "この関数を用い，英語のメッセージを暗号化・復号化せよ．"
      ]
    },
    {
      "cell_type": "code",
      "metadata": {
        "id": "9wwMlcpyUjJ3",
        "colab_type": "code",
        "outputId": "105f897a-2c7b-46d3-feaf-4b27f837b6f8",
        "colab": {
          "base_uri": "https://localhost:8080/",
          "height": 68
        }
      },
      "source": [
        "def cipher(target):\n",
        "  result = ''\n",
        "  for c in target:\n",
        "     if c.islower():\n",
        "            result += chr(219 - ord(c))\n",
        "     else:\n",
        "            result += c\n",
        "  return result\n",
        "\n",
        "target = input('文字列を入力してください--> ')\n",
        "\n",
        "result = cipher(target)\n",
        "print('暗号化:' + result)\n",
        "\n",
        "result2 = cipher(result)\n",
        "print('復号化:' + result2)\n",
        "\n",
        "if result2 != target:\n",
        "    print('元に戻っていない！？')"
      ],
      "execution_count": 0,
      "outputs": [
        {
          "output_type": "stream",
          "text": [
            "文字列を入力してください--> ghjhyguj\n",
            "暗号化:tsqsbtfq\n",
            "復号化:ghjhyguj\n"
          ],
          "name": "stdout"
        }
      ]
    }
  ]
}