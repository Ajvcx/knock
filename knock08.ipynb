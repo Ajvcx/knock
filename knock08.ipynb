{
  "nbformat": 4,
  "nbformat_minor": 0,
  "metadata": {
    "colab": {
      "name": "knock08.ipynb",
      "provenance": [],
      "authorship_tag": "ABX9TyOdXLlSxLLDz0Zp3vhooZew",
      "include_colab_link": true
    },
    "kernelspec": {
      "name": "python3",
      "display_name": "Python 3"
    }
  },
  "cells": [
    {
      "cell_type": "markdown",
      "metadata": {
        "id": "view-in-github",
        "colab_type": "text"
      },
      "source": [
        "<a href=\"https://colab.research.google.com/github/Ajvcx/knock/blob/master/knock08.ipynb\" target=\"_parent\"><img src=\"https://colab.research.google.com/assets/colab-badge.svg\" alt=\"Open In Colab\"/></a>"
      ]
    },
    {
      "cell_type": "code",
      "metadata": {
        "id": "9wwMlcpyUjJ3",
        "colab_type": "code",
        "colab": {
          "base_uri": "https://localhost:8080/",
          "height": 68
        },
        "outputId": "105f897a-2c7b-46d3-feaf-4b27f837b6f8"
      },
      "source": [
        "def cipher(target):\n",
        "  result = ''\n",
        "  for c in target:\n",
        "     if c.islower():\n",
        "            result += chr(219 - ord(c))\n",
        "     else:\n",
        "            result += c\n",
        "  return result\n",
        "\n",
        "target = input('文字列を入力してください--> ')\n",
        "\n",
        "result = cipher(target)\n",
        "print('暗号化:' + result)\n",
        "\n",
        "result2 = cipher(result)\n",
        "print('復号化:' + result2)\n",
        "\n",
        "if result2 != target:\n",
        "    print('元に戻っていない！？')"
      ],
      "execution_count": 1,
      "outputs": [
        {
          "output_type": "stream",
          "text": [
            "文字列を入力してください--> ghjhyguj\n",
            "暗号化:tsqsbtfq\n",
            "復号化:ghjhyguj\n"
          ],
          "name": "stdout"
        }
      ]
    }
  ]
}