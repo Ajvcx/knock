{
  "nbformat": 4,
  "nbformat_minor": 0,
  "metadata": {
    "colab": {
      "name": "knock09.ipynb",
      "provenance": [],
      "authorship_tag": "ABX9TyNkqiJqTuMd/WKiOkvZzUjW",
      "include_colab_link": true
    },
    "kernelspec": {
      "name": "python3",
      "display_name": "Python 3"
    }
  },
  "cells": [
    {
      "cell_type": "markdown",
      "metadata": {
        "id": "view-in-github",
        "colab_type": "text"
      },
      "source": [
        "<a href=\"https://colab.research.google.com/github/Ajvcx/knock/blob/master/knock09.ipynb\" target=\"_parent\"><img src=\"https://colab.research.google.com/assets/colab-badge.svg\" alt=\"Open In Colab\"/></a>"
      ]
    },
    {
      "cell_type": "code",
      "metadata": {
        "id": "73z7HbEE5-Kh",
        "colab_type": "code",
        "colab": {
          "base_uri": "https://localhost:8080/",
          "height": 71
        },
        "outputId": "942f33d3-5696-4708-813b-fbef02da609d"
      },
      "source": [
        "import random\n",
        "\n",
        "def Typoglycemia(target):\n",
        "   result = []\n",
        "   for word in target.split(' '):\n",
        "     if len(word) <= 4:\n",
        "         result.append(word)\n",
        "     else:\n",
        "         chr_list = list(word[1:-1])\n",
        "         random.shuffle(chr_list)\n",
        "         result.append(word[0] + ''.join(chr_list) + word[-1])\n",
        "\n",
        "   return ' '.join(result)\n",
        "\n",
        "target = input('文字列を入力してください　:　')\n",
        "\n",
        "result = Typoglycemia(target)\n",
        "print('変換結果:' + result)"
      ],
      "execution_count": 6,
      "outputs": [
        {
          "output_type": "stream",
          "text": [
            "文字列を入力してください　:　   I couldn't believe that I could actually understand what I was reading : the phenomenal power of the human mind .\n",
            "変換結果:   I cldno'ut bileeve that I could atlulcay usnretnadd what I was rniadeg : the pmhoenenal pewor of the haumn mind .\n"
          ],
          "name": "stdout"
        }
      ]
    }
  ]
}